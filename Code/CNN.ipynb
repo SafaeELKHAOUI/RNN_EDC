{
 "cells": [
  {
   "cell_type": "code",
   "execution_count": 3,
   "metadata": {},
   "outputs": [],
   "source": [
    "import scipy.io\n",
    "import torch\n",
    "from torch.utils.data import Dataset, DataLoader\n",
    "import torch.optim as optim\n",
    "import torch.nn as nn\n",
    "import torch.nn.functional as F\n",
    "import torch.nn.utils.rnn as rnn_utils\n",
    "import os\n",
    "import pandas as pd\n",
    "import numpy as np"
   ]
  },
  {
   "cell_type": "code",
   "execution_count": 1,
   "metadata": {},
   "outputs": [],
   "source": [
    "\n",
    "def load_mat_data(filename): \n",
    "    mat = scipy.io.loadmat(filename) \n",
    "    ecg_signal = mat['val'] \n",
    "    \n",
    "    # Ensure the signal is 1D and take only the first channel if necessary \n",
    "    ecg_signal = ecg_signal.squeeze()  # Remove any single-dimensional entries \n",
    "\n",
    "    # Pad or truncate the signal to a fixed length (9000) \n",
    "    target_length = 9000 \n",
    "    if ecg_signal.shape[0] < target_length: \n",
    "        # Pad the signal if it's shorter than the target length \n",
    "        padding = target_length - ecg_signal.shape[0] \n",
    "        ecg_signal = np.pad(ecg_signal, (0, padding), mode='constant', constant_values=0) \n",
    "    elif ecg_signal.shape[0] > target_length: \n",
    "        # Truncate the signal if it's longer than the target length \n",
    "        ecg_signal = ecg_signal[:target_length] \n",
    "\n",
    "    # Convert to a PyTorch tensor and add channel dimension \n",
    "    return torch.tensor(ecg_signal, dtype=torch.float32).unsqueeze(0)  # Shape: (1, target_length) \n"
   ]
  },
  {
   "cell_type": "code",
   "execution_count": 4,
   "metadata": {},
   "outputs": [],
   "source": [
    "class ECGDataset(Dataset):\n",
    "    def __init__(self, csv_file, transform=None):\n",
    "        # Load the CSV file\n",
    "        self.data_df = pd.read_csv(csv_file, header=None)\n",
    "        self.labels_df = self.data_df[[0, 1]]  # Assuming first column is filename and second is label\n",
    "        self.labels_df.columns = ['filename', 'label']  # Assign column names\n",
    "        \n",
    "        # Define a mapping from string labels to numeric labels\n",
    "        self.label_mapping = {\n",
    "            \"A\": 0,\n",
    "            \"N\": 1,\n",
    "            \"O\": 2,\n",
    "            \"~\": 3\n",
    "        }\n",
    "\n",
    "        self.transform = transform\n",
    "\n",
    "    def __len__(self):\n",
    "        return len(self.labels_df)\n",
    "\n",
    "    def __getitem__(self, idx):\n",
    "        \n",
    "        filename = os.path.join(mat_dir, self.labels_df.iloc[idx]['filename'])\n",
    "        label = self.labels_df.iloc[idx]['label']\n",
    "        \n",
    "        # Convert string label to numeric using the mapping\n",
    "        if isinstance(label, str):\n",
    "            label = self.label_mapping.get(label, -1)  \n",
    "\n",
    "        # Convert to tensor\n",
    "        label_tensor = torch.tensor(label, dtype=torch.long)\n",
    "\n",
    "        # Load ECG data\n",
    "        data = load_mat_data(filename)  # Load the ECG data\n",
    "        \n",
    "        # Example of applying a transformation\n",
    "        if self.transform:\n",
    "            data = self.transform(data) \n",
    "        \n",
    "        # Return the data and label\n",
    "        return data, label_tensor"
   ]
  },
  {
   "cell_type": "code",
   "execution_count": 9,
   "metadata": {},
   "outputs": [],
   "source": [
    "def collate_fn(batch):\n",
    "    ecg_signals, labels = zip(*batch)\n",
    "\n",
    "    lengths = torch.tensor([signal.size(1) for signal in ecg_signals])  \n",
    "\n",
    "    padded_ecg_signals = rnn_utils.pad_sequence(ecg_signals, batch_first=True)\n",
    "\n",
    "    labels = torch.stack(labels)  \n",
    "    \n",
    "    return padded_ecg_signals, lengths, labels"
   ]
  },
  {
   "cell_type": "code",
   "execution_count": 5,
   "metadata": {},
   "outputs": [],
   "source": [
    "# CNN model\n",
    "class CNNModel(nn.Module):\n",
    "    def __init__(self):\n",
    "        super(CNNModel, self).__init__()\n",
    "        self.conv1 = nn.Conv1d(1, 16, kernel_size=3, stride=1)\n",
    "        self.conv2 = nn.Conv1d(16, 32, kernel_size=3, stride=1)\n",
    "        self.fc1 = nn.Linear(32 * (9000 - 4), 64)  \n",
    "        self.fc2 = nn.Linear(64, 5)  \n",
    "\n",
    "    def forward(self, x):\n",
    "        x = F.relu(self.conv1(x))\n",
    "        x = F.relu(self.conv2(x))\n",
    "        x = x.view(x.size(0), -1) \n",
    "        x = F.relu(self.fc1(x))\n",
    "        x = self.fc2(x)\n",
    "        return x"
   ]
  },
  {
   "cell_type": "code",
   "execution_count": 20,
   "metadata": {},
   "outputs": [],
   "source": [
    "# Training loop\n",
    "def train_model(model, dataloader, criterion, optimizer, epochs=7):\n",
    "    for epoch in range(epochs):\n",
    "        model.train()\n",
    "        running_loss = 0.0\n",
    "        correct = 0\n",
    "        total = 0\n",
    "        \n",
    "        for data, lengths, labels in dataloader: \n",
    "            optimizer.zero_grad()\n",
    "            \n",
    "            outputs = model(data)\n",
    "\n",
    "            # Compute the loss\n",
    "            loss = criterion(outputs, labels)\n",
    "            loss.backward()\n",
    "            optimizer.step()\n",
    "\n",
    "            # Track statistics\n",
    "            running_loss += loss.item()\n",
    "            _, predicted = torch.max(outputs, 1)\n",
    "            total += labels.size(0)\n",
    "            correct += (predicted == labels).sum().item()\n",
    "\n",
    "        accuracy = 100 * correct / total\n",
    "        print(f'Epoch [{epoch+1}/{epochs}], Loss: {running_loss:.4f}, Accuracy: {accuracy:.2f}%')"
   ]
  },
  {
   "cell_type": "code",
   "execution_count": 11,
   "metadata": {},
   "outputs": [],
   "source": [
    "import torch\n",
    "\n",
    "device = torch.device(\"cuda\" if torch.cuda.is_available() else \"cpu\")\n"
   ]
  },
  {
   "cell_type": "code",
   "execution_count": 18,
   "metadata": {},
   "outputs": [],
   "source": [
    "def test_model(model, dataloader, criterion):\n",
    "    model.eval()  \n",
    "    total_correct = 0\n",
    "    total_loss = 0\n",
    "    total_samples = 0\n",
    "\n",
    "    with torch.no_grad():  \n",
    "        for batch in dataloader:\n",
    "            inputs = batch[0].to(device)  \n",
    "            labels = batch[2].to(device)  \n",
    "\n",
    "            # Forward pass\n",
    "            outputs = model(inputs)\n",
    "\n",
    "            # Calculate loss\n",
    "            loss = criterion(outputs, labels)\n",
    "            total_loss += loss.item()\n",
    "\n",
    "            # Get predicted classes\n",
    "            _, predicted = torch.max(outputs, 1)\n",
    "            total_correct += (predicted == labels).sum().item()\n",
    "            total_samples += labels.size(0)\n",
    "\n",
    "    # Calculate accuracy\n",
    "    accuracy = total_correct / total_samples if total_samples > 0 else 0\n",
    "    average_loss = total_loss / len(dataloader) if len(dataloader) > 0 else 0\n",
    "\n",
    "    print(f'Test Loss: {average_loss:.4f}, Test Accuracy: {accuracy * 100:.2f}%')\n"
   ]
  },
  {
   "cell_type": "code",
   "execution_count": 21,
   "metadata": {},
   "outputs": [],
   "source": [
    "mat_dir = 'C:/Users/elkha/Desktop/EMA/EMA_173_2024-2025/DeepLearning/TP/RNN/Data/ECG_Data'  # Directory containing .mat files\n",
    "\n",
    "# Load the complete dataset\n",
    "label_csv = 'C:/Users/elkha/Desktop/EMA/EMA_173_2024-2025/DeepLearning/TP/RNN/Data/Labels.csv'\n",
    "dataset = ECGDataset(label_csv)\n",
    "\n",
    "# Set random seed for reproducibility\n",
    "torch.manual_seed(42)\n",
    "\n",
    "# Define the split sizes\n",
    "train_size = int(0.8 * len(dataset))\n",
    "test_size = len(dataset) - train_size\n",
    "\n",
    "# Split the dataset into training and testing datasets\n",
    "train_dataset, test_dataset = torch.utils.data.random_split(dataset, [train_size, test_size])\n",
    "\n",
    "# Create DataLoaders for training and testing\n",
    "train_dataloader = DataLoader(train_dataset, batch_size=32, shuffle=True, collate_fn=collate_fn)\n",
    "test_dataloader = DataLoader(test_dataset, batch_size=32, shuffle=False, collate_fn=collate_fn)\n",
    "\n",
    "cnn_model = CNNModel()\n",
    "\n",
    "criterion = nn.CrossEntropyLoss()  # Assuming classification task\n",
    "optimizer_cnn = optim.Adam(cnn_model.parameters(), lr=0.001)\n",
    "\n"
   ]
  },
  {
   "cell_type": "code",
   "execution_count": 22,
   "metadata": {},
   "outputs": [
    {
     "name": "stdout",
     "output_type": "stream",
     "text": [
      "Training CNN model...\n",
      "Epoch [1/7], Loss: 11821.5051, Accuracy: 46.86%\n",
      "Epoch [2/7], Loss: 153.1832, Accuracy: 70.21%\n",
      "Epoch [3/7], Loss: 66.9257, Accuracy: 88.41%\n",
      "Epoch [4/7], Loss: 18.9102, Accuracy: 97.46%\n",
      "Epoch [5/7], Loss: 7.0509, Accuracy: 99.60%\n",
      "Epoch [6/7], Loss: 3.9035, Accuracy: 99.84%\n",
      "Epoch [7/7], Loss: 1.3114, Accuracy: 99.96%\n"
     ]
    }
   ],
   "source": [
    "# Train CNN model\n",
    "print(\"Training CNN model...\")\n",
    "train_model(cnn_model, train_dataloader, criterion, optimizer_cnn)"
   ]
  },
  {
   "cell_type": "code",
   "execution_count": 23,
   "metadata": {},
   "outputs": [
    {
     "name": "stdout",
     "output_type": "stream",
     "text": [
      "Testing CNN model...\n",
      "Test Loss: 4.5140, Test Accuracy: 50.23%\n"
     ]
    },
    {
     "ename": "",
     "evalue": "",
     "output_type": "error",
     "traceback": [
      "\u001b[1;31mThe Kernel crashed while executing code in the current cell or a previous cell. \n",
      "\u001b[1;31mPlease review the code in the cell(s) to identify a possible cause of the failure. \n",
      "\u001b[1;31mClick <a href='https://aka.ms/vscodeJupyterKernelCrash'>here</a> for more info. \n",
      "\u001b[1;31mView Jupyter <a href='command:jupyter.viewOutput'>log</a> for further details."
     ]
    }
   ],
   "source": [
    "print(\"Testing CNN model...\")\n",
    "test_model(cnn_model, test_dataloader, criterion)"
   ]
  },
  {
   "cell_type": "code",
   "execution_count": null,
   "metadata": {},
   "outputs": [],
   "source": []
  }
 ],
 "metadata": {
  "kernelspec": {
   "display_name": "2IA_ML_ADVANCED",
   "language": "python",
   "name": "python3"
  },
  "language_info": {
   "codemirror_mode": {
    "name": "ipython",
    "version": 3
   },
   "file_extension": ".py",
   "mimetype": "text/x-python",
   "name": "python",
   "nbconvert_exporter": "python",
   "pygments_lexer": "ipython3",
   "version": "3.12.5"
  }
 },
 "nbformat": 4,
 "nbformat_minor": 2
}
